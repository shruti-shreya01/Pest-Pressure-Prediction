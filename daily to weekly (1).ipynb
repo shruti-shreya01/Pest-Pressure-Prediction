{
 "cells": [
  {
   "cell_type": "code",
   "execution_count": 1,
   "id": "c27d3f1e-c561-4869-bb84-ae388828d402",
   "metadata": {},
   "outputs": [],
   "source": [
    "import pandas as pd"
   ]
  },
  {
   "cell_type": "code",
   "execution_count": 122,
   "id": "34d8d695-4335-4577-8324-d76ab84c42e0",
   "metadata": {},
   "outputs": [],
   "source": [
    "df= pd.read_csv(r'daily to weekly dummy.csv')"
   ]
  },
  {
   "cell_type": "code",
   "execution_count": 45,
   "id": "198b3760-3403-45c6-a326-6bce4d5b33aa",
   "metadata": {},
   "outputs": [
    {
     "name": "stdout",
     "output_type": "stream",
     "text": [
      "            Temperature  Relative Humdity  Rainfall\n",
      "Date                                               \n",
      "2024-01-01           35                84         8\n",
      "2024-01-02           33                56        36\n",
      "2024-01-03           37                58        30\n",
      "2024-01-04           30                90         4\n",
      "2024-01-05           20                83         8\n",
      "2024-01-06           36                73        24\n",
      "2024-01-07           38                67         5\n",
      "2024-01-08           22                57        29\n",
      "2024-01-09           25                99        16\n",
      "2024-01-10           24                73        43\n",
      "2024-01-11           22                89        23\n",
      "2024-01-12           33                99        12\n",
      "2024-01-13           24                59        29\n",
      "2024-01-14           34                88        16\n",
      "2024-01-15           32                85         4\n",
      "2024-01-16           25                73        38\n",
      "2024-01-17           37                94        38\n",
      "2024-01-18           20                77        23\n",
      "2024-01-19           24                75        36\n",
      "2024-01-20           23                95        46\n",
      "2024-01-21           36                92         1\n",
      "2024-01-22           38                59        50\n",
      "2024-01-23           24                93        49\n",
      "2024-01-24           37                72        45\n",
      "2024-01-25           25                76        14\n",
      "2024-01-26           20                85        14\n",
      "2024-01-27           20                58        47\n",
      "2024-01-28           27                79        49\n",
      "2024-01-29           30                79        38\n",
      "2024-01-30           39                76        30\n",
      "2024-01-31           38                92         3\n"
     ]
    }
   ],
   "source": [
    "print(df.head(31))"
   ]
  },
  {
   "cell_type": "code",
   "execution_count": 17,
   "id": "3cba27e5-9e69-4af4-a959-eb06f3e36044",
   "metadata": {},
   "outputs": [],
   "source": [
    "# aggregation_logic = {\n",
    "#     'Temperature': 'mean',  # Use 'mean' instead of 'average'\n",
    "#     'Relative Humdity': 'mean',\n",
    "#     'Rainfall': 'sum'\n",
    "# }\n",
    "\n",
    "# df = pd.read_clipboard(parse_dates=['Date'], index_col=['Date'])\n",
    "# df = df.resample('W').apply(logic)\n",
    "\n",
    "# # changes in Pandas 1.1\n",
    "# from pandas.tseries.frequencies import to_offset\n",
    "# df.index = df.index - to_offset('6D')"
   ]
  },
  {
   "cell_type": "code",
   "execution_count": 15,
   "id": "376b5f90-d142-4fd4-be57-2e9f2203c43a",
   "metadata": {},
   "outputs": [],
   "source": [
    "df['Date'] = pd.to_datetime(df['Date'])\n",
    "df.set_index('Date', inplace=True)"
   ]
  },
  {
   "cell_type": "code",
   "execution_count": 19,
   "id": "0861a4ce-2dd8-490b-bf6d-a55b986f1847",
   "metadata": {},
   "outputs": [],
   "source": [
    "aggregation_logic = {\n",
    "    'Temperature': 'mean',  # Use 'mean' instead of 'average'\n",
    "    'Relative Humdity': 'mean',\n",
    "    'Rainfall': 'sum'\n",
    "}"
   ]
  },
  {
   "cell_type": "markdown",
   "id": "e90ba9a9-21e3-4412-9138-aa29b8a632a9",
   "metadata": {},
   "source": [
    "## daily to weekly"
   ]
  },
  {
   "cell_type": "code",
   "execution_count": 21,
   "id": "b58554a0-a4c5-46b3-829c-a1a5d067886b",
   "metadata": {},
   "outputs": [],
   "source": [
    "weekly_df = df.resample('W').agg(aggregation_logic)"
   ]
  },
  {
   "cell_type": "code",
   "execution_count": 23,
   "id": "8b0df1e0-ca41-46e3-9897-e8a9933a3373",
   "metadata": {},
   "outputs": [
    {
     "data": {
      "text/html": [
       "<div>\n",
       "<style scoped>\n",
       "    .dataframe tbody tr th:only-of-type {\n",
       "        vertical-align: middle;\n",
       "    }\n",
       "\n",
       "    .dataframe tbody tr th {\n",
       "        vertical-align: top;\n",
       "    }\n",
       "\n",
       "    .dataframe thead th {\n",
       "        text-align: right;\n",
       "    }\n",
       "</style>\n",
       "<table border=\"1\" class=\"dataframe\">\n",
       "  <thead>\n",
       "    <tr style=\"text-align: right;\">\n",
       "      <th></th>\n",
       "      <th>Temperature</th>\n",
       "      <th>Relative Humdity</th>\n",
       "      <th>Rainfall</th>\n",
       "    </tr>\n",
       "    <tr>\n",
       "      <th>Date</th>\n",
       "      <th></th>\n",
       "      <th></th>\n",
       "      <th></th>\n",
       "    </tr>\n",
       "  </thead>\n",
       "  <tbody>\n",
       "    <tr>\n",
       "      <th>2024-01-07</th>\n",
       "      <td>32.714286</td>\n",
       "      <td>73.000000</td>\n",
       "      <td>115</td>\n",
       "    </tr>\n",
       "    <tr>\n",
       "      <th>2024-01-14</th>\n",
       "      <td>26.285714</td>\n",
       "      <td>80.571429</td>\n",
       "      <td>168</td>\n",
       "    </tr>\n",
       "    <tr>\n",
       "      <th>2024-01-21</th>\n",
       "      <td>28.142857</td>\n",
       "      <td>84.428571</td>\n",
       "      <td>186</td>\n",
       "    </tr>\n",
       "    <tr>\n",
       "      <th>2024-01-28</th>\n",
       "      <td>27.285714</td>\n",
       "      <td>74.571429</td>\n",
       "      <td>268</td>\n",
       "    </tr>\n",
       "    <tr>\n",
       "      <th>2024-02-04</th>\n",
       "      <td>30.428571</td>\n",
       "      <td>84.000000</td>\n",
       "      <td>184</td>\n",
       "    </tr>\n",
       "  </tbody>\n",
       "</table>\n",
       "</div>"
      ],
      "text/plain": [
       "            Temperature  Relative Humdity  Rainfall\n",
       "Date                                               \n",
       "2024-01-07    32.714286         73.000000       115\n",
       "2024-01-14    26.285714         80.571429       168\n",
       "2024-01-21    28.142857         84.428571       186\n",
       "2024-01-28    27.285714         74.571429       268\n",
       "2024-02-04    30.428571         84.000000       184"
      ]
     },
     "execution_count": 23,
     "metadata": {},
     "output_type": "execute_result"
    }
   ],
   "source": [
    "weekly_df.head()"
   ]
  },
  {
   "cell_type": "code",
   "execution_count": 128,
   "id": "416ffd10-76ff-4903-bbc9-24997324a260",
   "metadata": {},
   "outputs": [],
   "source": [
    "weekly_df.to_excel('weekly data.xlsx')"
   ]
  },
  {
   "cell_type": "code",
   "execution_count": 124,
   "id": "8a350935-d5b0-4e8a-963f-fef0fcac37f3",
   "metadata": {},
   "outputs": [
    {
     "name": "stdout",
     "output_type": "stream",
     "text": [
      "Empty DataFrame\n",
      "Columns: [Date, Temperature, Relative Humdity, Rainfall]\n",
      "Index: []\n"
     ]
    }
   ],
   "source": [
    "weekly_data = df.asfreq('W')\n",
    "print(weekly_data)\n"
   ]
  },
  {
   "cell_type": "markdown",
   "id": "097a7c78-d861-49dd-b71f-9ec3f05874c9",
   "metadata": {},
   "source": [
    "## daily to monthly"
   ]
  },
  {
   "cell_type": "code",
   "execution_count": 32,
   "id": "00924637-abbe-493f-b72b-52e6c471a9f9",
   "metadata": {},
   "outputs": [],
   "source": [
    "monthly_df = df.resample('ME').agg(aggregation_logic)\n"
   ]
  },
  {
   "cell_type": "code",
   "execution_count": 34,
   "id": "246e31db-4345-40ab-b18f-dab43a847152",
   "metadata": {},
   "outputs": [
    {
     "data": {
      "text/html": [
       "<div>\n",
       "<style scoped>\n",
       "    .dataframe tbody tr th:only-of-type {\n",
       "        vertical-align: middle;\n",
       "    }\n",
       "\n",
       "    .dataframe tbody tr th {\n",
       "        vertical-align: top;\n",
       "    }\n",
       "\n",
       "    .dataframe thead th {\n",
       "        text-align: right;\n",
       "    }\n",
       "</style>\n",
       "<table border=\"1\" class=\"dataframe\">\n",
       "  <thead>\n",
       "    <tr style=\"text-align: right;\">\n",
       "      <th></th>\n",
       "      <th>Temperature</th>\n",
       "      <th>Relative Humdity</th>\n",
       "      <th>Rainfall</th>\n",
       "    </tr>\n",
       "    <tr>\n",
       "      <th>Date</th>\n",
       "      <th></th>\n",
       "      <th></th>\n",
       "      <th></th>\n",
       "    </tr>\n",
       "  </thead>\n",
       "  <tbody>\n",
       "    <tr>\n",
       "      <th>2024-01-31</th>\n",
       "      <td>29.290323</td>\n",
       "      <td>78.548387</td>\n",
       "      <td>808</td>\n",
       "    </tr>\n",
       "    <tr>\n",
       "      <th>2024-02-29</th>\n",
       "      <td>28.689655</td>\n",
       "      <td>79.103448</td>\n",
       "      <td>746</td>\n",
       "    </tr>\n",
       "    <tr>\n",
       "      <th>2024-03-31</th>\n",
       "      <td>29.258065</td>\n",
       "      <td>72.032258</td>\n",
       "      <td>738</td>\n",
       "    </tr>\n",
       "    <tr>\n",
       "      <th>2024-04-30</th>\n",
       "      <td>30.833333</td>\n",
       "      <td>73.333333</td>\n",
       "      <td>773</td>\n",
       "    </tr>\n",
       "    <tr>\n",
       "      <th>2024-05-31</th>\n",
       "      <td>28.774194</td>\n",
       "      <td>70.903226</td>\n",
       "      <td>784</td>\n",
       "    </tr>\n",
       "  </tbody>\n",
       "</table>\n",
       "</div>"
      ],
      "text/plain": [
       "            Temperature  Relative Humdity  Rainfall\n",
       "Date                                               \n",
       "2024-01-31    29.290323         78.548387       808\n",
       "2024-02-29    28.689655         79.103448       746\n",
       "2024-03-31    29.258065         72.032258       738\n",
       "2024-04-30    30.833333         73.333333       773\n",
       "2024-05-31    28.774194         70.903226       784"
      ]
     },
     "execution_count": 34,
     "metadata": {},
     "output_type": "execute_result"
    }
   ],
   "source": [
    "monthly_df.head()"
   ]
  },
  {
   "cell_type": "code",
   "execution_count": 130,
   "id": "e02bf529-54ef-4ebb-b369-ee08c496f029",
   "metadata": {},
   "outputs": [],
   "source": [
    "monthly_df.to_excel('daily_monthly.xlsx')"
   ]
  },
  {
   "cell_type": "markdown",
   "id": "ea3bfc9d-b06b-4f4b-a409-a721473ccd3d",
   "metadata": {},
   "source": [
    "## weekly to monthly"
   ]
  },
  {
   "cell_type": "code",
   "execution_count": 39,
   "id": "ec89cb3f-1c58-4177-9cae-e4082d2be00b",
   "metadata": {},
   "outputs": [],
   "source": [
    "w_monthly= weekly_df.resample('ME').agg(aggregation_logic)"
   ]
  },
  {
   "cell_type": "code",
   "execution_count": 41,
   "id": "1daf704c-f5aa-4254-b69a-dda00494ccc5",
   "metadata": {},
   "outputs": [
    {
     "data": {
      "text/html": [
       "<div>\n",
       "<style scoped>\n",
       "    .dataframe tbody tr th:only-of-type {\n",
       "        vertical-align: middle;\n",
       "    }\n",
       "\n",
       "    .dataframe tbody tr th {\n",
       "        vertical-align: top;\n",
       "    }\n",
       "\n",
       "    .dataframe thead th {\n",
       "        text-align: right;\n",
       "    }\n",
       "</style>\n",
       "<table border=\"1\" class=\"dataframe\">\n",
       "  <thead>\n",
       "    <tr style=\"text-align: right;\">\n",
       "      <th></th>\n",
       "      <th>Temperature</th>\n",
       "      <th>Relative Humdity</th>\n",
       "      <th>Rainfall</th>\n",
       "    </tr>\n",
       "    <tr>\n",
       "      <th>Date</th>\n",
       "      <th></th>\n",
       "      <th></th>\n",
       "      <th></th>\n",
       "    </tr>\n",
       "  </thead>\n",
       "  <tbody>\n",
       "    <tr>\n",
       "      <th>2024-01-31</th>\n",
       "      <td>28.607143</td>\n",
       "      <td>78.142857</td>\n",
       "      <td>737</td>\n",
       "    </tr>\n",
       "    <tr>\n",
       "      <th>2024-02-29</th>\n",
       "      <td>29.250000</td>\n",
       "      <td>79.071429</td>\n",
       "      <td>723</td>\n",
       "    </tr>\n",
       "    <tr>\n",
       "      <th>2024-03-31</th>\n",
       "      <td>29.342857</td>\n",
       "      <td>73.142857</td>\n",
       "      <td>832</td>\n",
       "    </tr>\n",
       "    <tr>\n",
       "      <th>2024-04-30</th>\n",
       "      <td>30.464286</td>\n",
       "      <td>72.321429</td>\n",
       "      <td>738</td>\n",
       "    </tr>\n",
       "    <tr>\n",
       "      <th>2024-05-31</th>\n",
       "      <td>29.500000</td>\n",
       "      <td>71.535714</td>\n",
       "      <td>691</td>\n",
       "    </tr>\n",
       "  </tbody>\n",
       "</table>\n",
       "</div>"
      ],
      "text/plain": [
       "            Temperature  Relative Humdity  Rainfall\n",
       "Date                                               \n",
       "2024-01-31    28.607143         78.142857       737\n",
       "2024-02-29    29.250000         79.071429       723\n",
       "2024-03-31    29.342857         73.142857       832\n",
       "2024-04-30    30.464286         72.321429       738\n",
       "2024-05-31    29.500000         71.535714       691"
      ]
     },
     "execution_count": 41,
     "metadata": {},
     "output_type": "execute_result"
    }
   ],
   "source": [
    "w_monthly.head()"
   ]
  },
  {
   "cell_type": "code",
   "execution_count": 132,
   "id": "c1994f2e-6a7e-449a-ba37-4ea9b1dcd6cb",
   "metadata": {},
   "outputs": [],
   "source": [
    "w_monthly.to_excel('weekly_monthly.xlsx')"
   ]
  },
  {
   "cell_type": "markdown",
   "id": "d5038e8b-395b-40c5-9e13-88b346bf992a",
   "metadata": {},
   "source": [
    "## my func"
   ]
  },
  {
   "cell_type": "code",
   "execution_count": 102,
   "id": "1a209b03-7305-4135-83d6-4405bab847e3",
   "metadata": {},
   "outputs": [],
   "source": [
    "df= pd.read_csv(r'daily to weekly dummy.csv', header=None)"
   ]
  },
  {
   "cell_type": "code",
   "execution_count": 104,
   "id": "1daac886-b6e3-485b-abde-b4bf7ebffb57",
   "metadata": {},
   "outputs": [
    {
     "data": {
      "text/html": [
       "<div>\n",
       "<style scoped>\n",
       "    .dataframe tbody tr th:only-of-type {\n",
       "        vertical-align: middle;\n",
       "    }\n",
       "\n",
       "    .dataframe tbody tr th {\n",
       "        vertical-align: top;\n",
       "    }\n",
       "\n",
       "    .dataframe thead th {\n",
       "        text-align: right;\n",
       "    }\n",
       "</style>\n",
       "<table border=\"1\" class=\"dataframe\">\n",
       "  <thead>\n",
       "    <tr style=\"text-align: right;\">\n",
       "      <th></th>\n",
       "      <th>Date</th>\n",
       "      <th>Temperature</th>\n",
       "      <th>Relative Humdity</th>\n",
       "      <th>Rainfall</th>\n",
       "    </tr>\n",
       "  </thead>\n",
       "  <tbody>\n",
       "    <tr>\n",
       "      <th>1</th>\n",
       "      <td>1/1/2024</td>\n",
       "      <td>35</td>\n",
       "      <td>84</td>\n",
       "      <td>8</td>\n",
       "    </tr>\n",
       "    <tr>\n",
       "      <th>2</th>\n",
       "      <td>1/2/2024</td>\n",
       "      <td>33</td>\n",
       "      <td>56</td>\n",
       "      <td>36</td>\n",
       "    </tr>\n",
       "    <tr>\n",
       "      <th>3</th>\n",
       "      <td>1/3/2024</td>\n",
       "      <td>37</td>\n",
       "      <td>58</td>\n",
       "      <td>30</td>\n",
       "    </tr>\n",
       "    <tr>\n",
       "      <th>4</th>\n",
       "      <td>1/4/2024</td>\n",
       "      <td>30</td>\n",
       "      <td>90</td>\n",
       "      <td>4</td>\n",
       "    </tr>\n",
       "    <tr>\n",
       "      <th>5</th>\n",
       "      <td>1/5/2024</td>\n",
       "      <td>20</td>\n",
       "      <td>83</td>\n",
       "      <td>8</td>\n",
       "    </tr>\n",
       "  </tbody>\n",
       "</table>\n",
       "</div>"
      ],
      "text/plain": [
       "0      Date Temperature Relative Humdity Rainfall\n",
       "1  1/1/2024          35               84        8\n",
       "2  1/2/2024          33               56       36\n",
       "3  1/3/2024          37               58       30\n",
       "4  1/4/2024          30               90        4\n",
       "5  1/5/2024          20               83        8"
      ]
     },
     "execution_count": 104,
     "metadata": {},
     "output_type": "execute_result"
    }
   ],
   "source": [
    "df.columns = df.iloc[0]  # Set the first row as header\n",
    "df = df.iloc[1:]\n",
    "df.head()"
   ]
  },
  {
   "cell_type": "code",
   "execution_count": 112,
   "id": "82a8203d-f2c9-4014-a237-df8df3443c0e",
   "metadata": {},
   "outputs": [
    {
     "data": {
      "text/html": [
       "<div>\n",
       "<style scoped>\n",
       "    .dataframe tbody tr th:only-of-type {\n",
       "        vertical-align: middle;\n",
       "    }\n",
       "\n",
       "    .dataframe tbody tr th {\n",
       "        vertical-align: top;\n",
       "    }\n",
       "\n",
       "    .dataframe thead th {\n",
       "        text-align: right;\n",
       "    }\n",
       "</style>\n",
       "<table border=\"1\" class=\"dataframe\">\n",
       "  <thead>\n",
       "    <tr style=\"text-align: right;\">\n",
       "      <th></th>\n",
       "      <th>Date</th>\n",
       "      <th>Temperature</th>\n",
       "    </tr>\n",
       "  </thead>\n",
       "  <tbody>\n",
       "    <tr>\n",
       "      <th>1</th>\n",
       "      <td>1/1/2024</td>\n",
       "      <td>35</td>\n",
       "    </tr>\n",
       "    <tr>\n",
       "      <th>2</th>\n",
       "      <td>1/2/2024</td>\n",
       "      <td>33</td>\n",
       "    </tr>\n",
       "    <tr>\n",
       "      <th>3</th>\n",
       "      <td>1/3/2024</td>\n",
       "      <td>37</td>\n",
       "    </tr>\n",
       "    <tr>\n",
       "      <th>4</th>\n",
       "      <td>1/4/2024</td>\n",
       "      <td>30</td>\n",
       "    </tr>\n",
       "    <tr>\n",
       "      <th>5</th>\n",
       "      <td>1/5/2024</td>\n",
       "      <td>20</td>\n",
       "    </tr>\n",
       "  </tbody>\n",
       "</table>\n",
       "</div>"
      ],
      "text/plain": [
       "0      Date Temperature\n",
       "1  1/1/2024          35\n",
       "2  1/2/2024          33\n",
       "3  1/3/2024          37\n",
       "4  1/4/2024          30\n",
       "5  1/5/2024          20"
      ]
     },
     "execution_count": 112,
     "metadata": {},
     "output_type": "execute_result"
    }
   ],
   "source": [
    "df= df[['Date','Temperature']]\n",
    "df.head()"
   ]
  },
  {
   "cell_type": "code",
   "execution_count": 118,
   "id": "bb27dd6a-a0b4-4bbb-98ae-8af99ab88b5d",
   "metadata": {},
   "outputs": [
    {
     "name": "stdout",
     "output_type": "stream",
     "text": [
      "Weekly Averages: [32.714285714285715, 26.285714285714285, 28.142857142857142, 27.285714285714285, 33.75, 29.857142857142858, 28.714285714285715, 29.0, 27.285714285714285, 26.0, 29.285714285714285, 28.857142857142858, 29.571428571428573, 28.428571428571427, 34.666666666666664, 26.571428571428573, 31.857142857142858, 31.714285714285715, 31.285714285714285, 31.5, 29.571428571428573, 30.0, 28.285714285714285, 26.285714285714285, 34.666666666666664, 30.714285714285715, 27.571428571428573, 29.714285714285715, 30.428571428571427, 30.0, 29.0, 30.571428571428573, 32.285714285714285, 29.714285714285715, 28.0, 32.0, 28.142857142857142, 27.714285714285715, 31.142857142857142, 31.0, 28.285714285714285, 30.0, 28.714285714285715, 26.428571428571427, 35.0, 29.857142857142858, 27.857142857142858, 27.857142857142858, 26.857142857142858, 29.0, 26.428571428571427, 30.714285714285715, 27.428571428571427, 29.0, 32.0, 27.571428571428573, 29.857142857142858, 28.714285714285715, 32.285714285714285, 32.5]\n"
     ]
    },
    {
     "name": "stderr",
     "output_type": "stream",
     "text": [
      "C:\\Users\\shruti shreya\\AppData\\Local\\Temp\\ipykernel_30696\\2678659426.py:1: SettingWithCopyWarning: \n",
      "A value is trying to be set on a copy of a slice from a DataFrame.\n",
      "Try using .loc[row_indexer,col_indexer] = value instead\n",
      "\n",
      "See the caveats in the documentation: https://pandas.pydata.org/pandas-docs/stable/user_guide/indexing.html#returning-a-view-versus-a-copy\n",
      "  df['Date'] = pd.to_datetime(df['Date'], format='%m/%d/%Y')\n",
      "C:\\Users\\shruti shreya\\AppData\\Local\\Temp\\ipykernel_30696\\2678659426.py:3: SettingWithCopyWarning: \n",
      "A value is trying to be set on a copy of a slice from a DataFrame.\n",
      "Try using .loc[row_indexer,col_indexer] = value instead\n",
      "\n",
      "See the caveats in the documentation: https://pandas.pydata.org/pandas-docs/stable/user_guide/indexing.html#returning-a-view-versus-a-copy\n",
      "  df['Temperature'] = pd.to_numeric(df['Temperature'], errors='coerce')\n"
     ]
    }
   ],
   "source": [
    "df['Date'] = pd.to_datetime(df['Date'], format='%m/%d/%Y')\n",
    "# Convert 'Temperature' column to numeric\n",
    "df['Temperature'] = pd.to_numeric(df['Temperature'], errors='coerce')\n",
    "\n",
    "# Initialize variables\n",
    "avg, sums = [], []\n",
    "current_sum = 0\n",
    "days_counter = 0\n",
    "start_month = df['Date'].iloc[0].month\n",
    "\n",
    "# Iterate over the rows\n",
    "for i in range(len(df)):\n",
    "    current_date = df['Date'].iloc[i]\n",
    "    current_month = current_date.month\n",
    "    \n",
    "    # Add to current sum and count days\n",
    "    current_sum += df['Temperature'].iloc[i]\n",
    "    days_counter += 1\n",
    "    \n",
    "    # Check if 7 days are completed or the next month starts\n",
    "    if days_counter == 7 or (current_month != start_month):\n",
    "        sums.append(current_sum)\n",
    "        avg.append(current_sum / days_counter)\n",
    "        \n",
    "        # Reset for the next week\n",
    "        current_sum = 0\n",
    "        days_counter = 0\n",
    "        start_month = current_month\n",
    "\n",
    "# For remaining days in the last week\n",
    "if days_counter > 0:\n",
    "    sums.append(current_sum)\n",
    "    avg.append(current_sum / days_counter)\n",
    "\n",
    "\n",
    "print(\"Weekly Averages:\", avg)"
   ]
  },
  {
   "cell_type": "code",
   "execution_count": null,
   "id": "f2b1fd2c-a606-47b1-9f1b-a93ee7adc0a8",
   "metadata": {},
   "outputs": [],
   "source": []
  }
 ],
 "metadata": {
  "kernelspec": {
   "display_name": "Python 3 (ipykernel)",
   "language": "python",
   "name": "python3"
  },
  "language_info": {
   "codemirror_mode": {
    "name": "ipython",
    "version": 3
   },
   "file_extension": ".py",
   "mimetype": "text/x-python",
   "name": "python",
   "nbconvert_exporter": "python",
   "pygments_lexer": "ipython3",
   "version": "3.12.7"
  }
 },
 "nbformat": 4,
 "nbformat_minor": 5
}
